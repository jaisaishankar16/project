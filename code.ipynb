{
 "cells": [
  {
   "cell_type": "code",
   "execution_count": 1,
   "id": "1b02f8dc",
   "metadata": {},
   "outputs": [],
   "source": [
    "import json\n",
    "import requests"
   ]
  },
  {
   "cell_type": "code",
   "execution_count": 2,
   "id": "e9a1f872",
   "metadata": {},
   "outputs": [],
   "source": [
    "url = 'https://ocr.asprise.com/api/v1/receipt'\n",
    "image = 'invoice3.jpg'"
   ]
  },
  {
   "cell_type": "code",
   "execution_count": 3,
   "id": "46e91380",
   "metadata": {},
   "outputs": [],
   "source": [
    "res = requests.post(url,\n",
    "                   data={\n",
    "                       'api_key':'TEST',\n",
    "                       'recognizer':'auto',\n",
    "                       'ref_no':'ocr_python_api'\n",
    "                   },\n",
    "                    files={\n",
    "                        'file':open(image,'rb')\n",
    "                    }\n",
    "                   )\n",
    "\n",
    "with open(\"response3.json\",'w') as f:\n",
    "    json.dump(json.loads(res.text),f)"
   ]
  },
  {
   "cell_type": "code",
   "execution_count": 4,
   "id": "d1e72795",
   "metadata": {},
   "outputs": [],
   "source": [
    "with open(\"response3.json\",\"r\") as f:\n",
    "    data = json.load(f)"
   ]
  },
  {
   "cell_type": "code",
   "execution_count": 5,
   "id": "4384bcfc",
   "metadata": {},
   "outputs": [
    {
     "data": {
      "text/plain": [
       "{'merchant_name': 'Permali',\n",
       " 'merchant_address': 'OPPOSITE RBI, HOSHANGABAD ROAD, BHOPAL\\nPermali\\nBHOPAL MADHYA PRADESH 462011 INDIA',\n",
       " 'merchant_phone': '+91 755 255 0085',\n",
       " 'merchant_website': None,\n",
       " 'merchant_tax_reg_no': '23AABCP7557R1ZR',\n",
       " 'merchant_company_reg_no': None,\n",
       " 'region': None,\n",
       " 'mall': None,\n",
       " 'country': 'IN',\n",
       " 'receipt_no': 'PWHO/1176',\n",
       " 'date': '2019-08-24',\n",
       " 'time': None,\n",
       " 'items': [{'amount': 19385.04,\n",
       "   'category': None,\n",
       "   'description': '85479090 MEC 26.0546111NUMBER148.0016428.000.000.00 16428.00 0.0 0.00 0.0C.00 18.0 2957.04',\n",
       "   'flags': '',\n",
       "   'qty': 50,\n",
       "   'remarks': None,\n",
       "   'tags': None,\n",
       "   'unitPrice': None}],\n",
       " 'currency': 'INR',\n",
       " 'total': 19385.04,\n",
       " 'subtotal': None,\n",
       " 'tax': None,\n",
       " 'service_charge': None,\n",
       " 'tip': None,\n",
       " 'payment_method': None,\n",
       " 'payment_details': None,\n",
       " 'credit_card_type': None,\n",
       " 'credit_card_number': None,\n",
       " 'ocr_text': ' CIN: U02001MP1961PTC000927                                                       Permali Wallace Pvt. Ltd.\\n                                                                                                                                                                            Original for Recipient\\n PAN: AABCP7557R                           Permali                       OPPOSITE RBI, HOSHANGABAD ROAD, BHOPAL\\n                                                                            BHOPAL MADHYA PRADESH 462011 INDIA                                                                         Page 1 of 1\\n GSTIN: 23AABCP7557R1ZR                    Wallace Phone: 07552550085 Website: www.permaliwallace.com Email: info@permaliwallace.com\\n                                                                                          TAX INVOICE\\n Invoice No:   PWHO/1176                                         Our SO no:      HO/MSSO/1819/0802                                  Mode of Transport: By Road\\n Invoice Date: 24-08-2019                                        Customer PO No: CN1905073                                           Transporter Name: TCI EXPRESS LTD\\n Date & Time of Preparation: 24-08-2019 14:33:32                  Customer PO Date: 17-01-2019                                      LR No/Vehicle No.:\\n Date & Time of Removal:  24-08-2019                              Payment Terms: WITHIN 60 DAYS DUE NET                             Terms of Delivery:   Permali Pays Freight\\n Tax Is Payable On Reverse Charge: No\\n                                 Details of Recipient (Billed to)                                                                Details of Consignee (Shipped to)\\n EFACEC INDIA PVT. LTD.                                                                           EFACEC INDIA PVT. LTD.\\n C-4 Garware Xlo Link Road MIDC AMBAD                                                             C-4 Garware Xlo Link Road MIDC AMBAD\\n Nashik Maharashtra India                                                                         Nashik Maharashtra India\\n State Code: 27                                                                                   State Code: 27\\n GSTIN 27AACCE4200H1Z4                                                                            GSTIN: 27AACCE4200H1Z4\\n       :\\n                                                      HSN Code Material                                                               Taxable CGST           UT/SGST          IGST\\n Item No               Item Description                                                     UOM      Rate\\n                                                        (GST) Code Weight Qty                               Amount Charge Disc                                                        Total Amount\\n                                                                                                                                       Value % Amount % Amount            % Amount\\n        36516015-02 ISOLATING SHAFT M16 X 212 MM LONG\\n  50                                                   85479090 MEC 26.0546        111     NUMBER      148.00 16428.00     0.00    0.00 16428.00 0.0 0.00 0.0         C.00 18.0 2957.04    19385.04\\n        REVISION: G\\n                                                                TOTAL 26.05                                   16428.00     0.00    0.00 16428.00        0.00          0.00      2957.04    19385 04\\n                                                                                                                                                   Total Invoice Value (In Figure)          19385.04\\n                                                                                                                                                                        Round Up               -0.04\\n                                                                                                                                                   Total Invoice Value (In Figure)          19385.00\\n Total Invoice Value (In Words) Rupee Nineteen Thousand Three Hundred Eighty Five And Zero\\n Total Tax (In Words) Rupee Two Thousand Nine Hundred Fifty Seven And Four\\n Remarks: WS-1050\\n \"Certified that the particulars given above are true and correct and the amount indicated represents the price actually charged\\n and that there is no flow of additional consideration directly or indirectly from the buyer\"                                      For Permali Wallace Pvt. Ltd.\\n 1) We take every care in packing & forwarding but do not accept any responsibility for lossess breakages or short weight, after\\n the goods have been made over to the carrier. Goods are always dispatched at buyer\\'s risk. Complaints as to quality must be\\n made within 30 days on receipt of the goods.\\n 2) Interest @ 18% will be charged on all remaining unpaid after due date.\\n                                                                                                                                         Authorised Signatory',\n",
       " 'ocr_confidence': 98.03,\n",
       " 'width': 2090,\n",
       " 'height': 1375,\n",
       " 'avg_char_width': 10.962,\n",
       " 'avg_line_height': 17.8491,\n",
       " 'conf_amount': 83,\n",
       " 'source_locations': {'date': [[{'y': 1968, 'x': 302},\n",
       "    {'y': 1855, 'x': 307},\n",
       "    {'y': 1856, 'x': 324},\n",
       "    {'y': 1969, 'x': 319}]],\n",
       "  'total': [[{'y': 140, 'x': 888},\n",
       "    {'y': 49, 'x': 891},\n",
       "    {'y': 49, 'x': 906},\n",
       "    {'y': 140, 'x': 903}]],\n",
       "  'receipt_no': [[{'y': 1967, 'x': 278},\n",
       "    {'y': 1843, 'x': 282},\n",
       "    {'y': 1843, 'x': 298},\n",
       "    {'y': 1967, 'x': 295}]],\n",
       "  'merchant_name': [[{'y': 1658, 'x': 136},\n",
       "    {'y': 1541, 'x': 142},\n",
       "    {'y': 1543, 'x': 172},\n",
       "    {'y': 1659, 'x': 166}]],\n",
       "  'doc': [[{'y': 2214, 'x': 6},\n",
       "    {'y': -83, 'x': 100},\n",
       "    {'y': -21, 'x': 1611},\n",
       "    {'y': 2275, 'x': 1518}]],\n",
       "  'merchant_phone': [[{'y': 1709, 'x': 170},\n",
       "    {'y': 569, 'x': 218},\n",
       "    {'y': 570, 'x': 248},\n",
       "    {'y': 1710, 'x': 200}]],\n",
       "  'merchant_tax_reg_no': [[{'y': 2049, 'x': 162},\n",
       "    {'y': 1838, 'x': 171},\n",
       "    {'y': 1839, 'x': 189},\n",
       "    {'y': 2050, 'x': 180}]]}}"
      ]
     },
     "execution_count": 5,
     "metadata": {},
     "output_type": "execute_result"
    }
   ],
   "source": [
    "data['receipts'][0]"
   ]
  },
  {
   "cell_type": "code",
   "execution_count": 6,
   "id": "3c02f140",
   "metadata": {},
   "outputs": [
    {
     "name": "stdout",
     "output_type": "stream",
     "text": [
      "Your Invoice Number is : PWHO/1176\n",
      "Your Invoice Date is : 2019-08-24\n",
      "Your GST Number is : 23AABCP7557R1ZR\n",
      "Vendor Name is : Permali\n",
      "Vendor's Address is : OPPOSITE RBI, HOSHANGABAD ROAD, BHOPAL\n",
      "Permali\n",
      "BHOPAL MADHYA PRADESH 462011 INDIA\n"
     ]
    }
   ],
   "source": [
    "print(f\"Your Invoice Number is : {data['receipts'][0]['receipt_no']}\")\n",
    "print(f\"Your Invoice Date is : {data['receipts'][0]['date']}\")\n",
    "print(f\"Your GST Number is : {data['receipts'][0]['merchant_tax_reg_no']}\")\n",
    "print(f\"Vendor Name is : {data['receipts'][0]['merchant_name']}\")\n",
    "print(f\"Vendor's Address is : {data['receipts'][0]['merchant_address']}\")\n"
   ]
  },
  {
   "cell_type": "code",
   "execution_count": null,
   "id": "70492fc5",
   "metadata": {},
   "outputs": [],
   "source": []
  }
 ],
 "metadata": {
  "kernelspec": {
   "display_name": "Python 3 (ipykernel)",
   "language": "python",
   "name": "python3"
  },
  "language_info": {
   "codemirror_mode": {
    "name": "ipython",
    "version": 3
   },
   "file_extension": ".py",
   "mimetype": "text/x-python",
   "name": "python",
   "nbconvert_exporter": "python",
   "pygments_lexer": "ipython3",
   "version": "3.10.4"
  }
 },
 "nbformat": 4,
 "nbformat_minor": 5
}
